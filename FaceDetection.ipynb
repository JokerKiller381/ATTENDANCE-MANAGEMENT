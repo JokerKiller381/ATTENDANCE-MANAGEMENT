{
 "cells": [
  {
   "cell_type": "code",
   "execution_count": 6,
   "metadata": {},
   "outputs": [
    {
     "name": "stdout",
     "output_type": "stream",
     "text": [
      "Requirement already satisfied: kaggle in c:\\python312\\lib\\site-packages (1.6.12)\n",
      "Requirement already satisfied: six>=1.10 in c:\\users\\joker\\appdata\\roaming\\python\\python312\\site-packages (from kaggle) (1.16.0)\n",
      "Requirement already satisfied: certifi>=2023.7.22 in c:\\python312\\lib\\site-packages (from kaggle) (2024.2.2)\n",
      "Requirement already satisfied: python-dateutil in c:\\users\\joker\\appdata\\roaming\\python\\python312\\site-packages (from kaggle) (2.9.0.post0)\n",
      "Requirement already satisfied: requests in c:\\python312\\lib\\site-packages (from kaggle) (2.31.0)\n",
      "Requirement already satisfied: tqdm in c:\\python312\\lib\\site-packages (from kaggle) (4.66.2)\n",
      "Requirement already satisfied: python-slugify in c:\\python312\\lib\\site-packages (from kaggle) (8.0.4)\n",
      "Requirement already satisfied: urllib3 in c:\\python312\\lib\\site-packages (from kaggle) (2.2.1)\n",
      "Requirement already satisfied: bleach in c:\\users\\joker\\appdata\\roaming\\python\\python312\\site-packages (from kaggle) (6.1.0)\n",
      "Requirement already satisfied: webencodings in c:\\python312\\lib\\site-packages (from bleach->kaggle) (0.5.1)\n",
      "Requirement already satisfied: text-unidecode>=1.3 in c:\\python312\\lib\\site-packages (from python-slugify->kaggle) (1.3)\n",
      "Requirement already satisfied: charset-normalizer<4,>=2 in c:\\python312\\lib\\site-packages (from requests->kaggle) (3.3.2)\n",
      "Requirement already satisfied: idna<4,>=2.5 in c:\\python312\\lib\\site-packages (from requests->kaggle) (3.6)\n",
      "Requirement already satisfied: colorama in c:\\users\\joker\\appdata\\roaming\\python\\python312\\site-packages (from tqdm->kaggle) (0.4.6)\n"
     ]
    }
   ],
   "source": [
    "!pip install kaggle"
   ]
  },
  {
   "cell_type": "code",
   "execution_count": 7,
   "metadata": {},
   "outputs": [
    {
     "name": "stderr",
     "output_type": "stream",
     "text": [
      "The syntax of the command is incorrect.\n",
      "cp: cannot stat 'kaggle.json': No such file or directory\n",
      "chmod: cannot access '~/.kaggle/kaggle.json': No such file or directory\n"
     ]
    }
   ],
   "source": [
    "# configuring the path of Kaggle.json file\n",
    "!mkdir -p ~/.kaggle\n",
    "!cp kaggle.json ~/.kaggle/\n",
    "!chmod 600 ~/.kaggle/kaggle.json"
   ]
  },
  {
   "cell_type": "code",
   "execution_count": 12,
   "metadata": {},
   "outputs": [
    {
     "name": "stderr",
     "output_type": "stream",
     "text": [
      "'kaggle' is not recognized as an internal or external command,\n",
      "operable program or batch file.\n"
     ]
    }
   ],
   "source": [
    "# API to fetch the dataset from Kaggle\n",
    "!kaggle datasets download -d omkargurav/data/face-mask-dataset"
   ]
  },
  {
   "cell_type": "code",
   "execution_count": 15,
   "metadata": {},
   "outputs": [
    {
     "name": "stdout",
     "output_type": "stream",
     "text": [
      "The dataset is extracted\n"
     ]
    }
   ],
   "source": [
    "import shutil\n",
    "import os\n",
    "\n",
    "# Source directory containing the compressed dataset\n",
    "\n",
    "\n",
    "# Destination directory where the files will be extracted\n",
    "extracted_dataset_path = '/database'\n",
    "\n",
    "# Create the destination directory if it doesn't exist\n",
    "os.makedirs(extracted_dataset_path, exist_ok=True)\n",
    "\n",
    "\n",
    "\n",
    "print('The dataset is extracted')\n"
   ]
  },
  {
   "cell_type": "code",
   "execution_count": 16,
   "metadata": {},
   "outputs": [
    {
     "name": "stdout",
     "output_type": "stream",
     "text": [
      "All_comapare.py\n",
      "FaceDetection.ipynb\n",
      "attendance.csv\n",
      "cam3.py\n",
      "compare1.py\n",
      "data\n",
      "database\n",
      "idont.py\n",
      "image_segmentation.py\n",
      "mark.py\n",
      "message_send.py\n",
      "myenv\n",
      "overview.py\n",
      "people\n",
      "present\n",
      "receiver.py\n",
      "try3.py\n"
     ]
    }
   ],
   "source": [
    "!ls"
   ]
  },
  {
   "cell_type": "code",
   "execution_count": 23,
   "metadata": {},
   "outputs": [
    {
     "name": "stdout",
     "output_type": "stream",
     "text": [
      "Collecting scikit-learn\n",
      "  Downloading scikit_learn-1.4.2-cp312-cp312-win_amd64.whl.metadata (11 kB)\n",
      "Requirement already satisfied: numpy>=1.19.5 in c:\\python312\\lib\\site-packages (from scikit-learn) (1.26.4)\n",
      "Requirement already satisfied: scipy>=1.6.0 in c:\\python312\\lib\\site-packages (from scikit-learn) (1.13.0)\n",
      "Collecting joblib>=1.2.0 (from scikit-learn)\n",
      "  Using cached joblib-1.4.0-py3-none-any.whl.metadata (5.4 kB)\n",
      "Collecting threadpoolctl>=2.0.0 (from scikit-learn)\n",
      "  Downloading threadpoolctl-3.5.0-py3-none-any.whl.metadata (13 kB)\n",
      "Downloading scikit_learn-1.4.2-cp312-cp312-win_amd64.whl (10.6 MB)\n",
      "   ---------------------------------------- 0.0/10.6 MB ? eta -:--:--\n",
      "   ---------------------------------------- 0.1/10.6 MB 2.6 MB/s eta 0:00:04\n",
      "   - -------------------------------------- 0.5/10.6 MB 5.6 MB/s eta 0:00:02\n",
      "   --- ------------------------------------ 0.9/10.6 MB 7.9 MB/s eta 0:00:02\n",
      "   ---- ----------------------------------- 1.2/10.6 MB 7.1 MB/s eta 0:00:02\n",
      "   ----- ---------------------------------- 1.5/10.6 MB 7.1 MB/s eta 0:00:02\n",
      "   ------- -------------------------------- 1.9/10.6 MB 7.2 MB/s eta 0:00:02\n",
      "   -------- ------------------------------- 2.2/10.6 MB 7.2 MB/s eta 0:00:02\n",
      "   --------- ------------------------------ 2.4/10.6 MB 7.6 MB/s eta 0:00:02\n",
      "   --------- ------------------------------ 2.4/10.6 MB 7.6 MB/s eta 0:00:02\n",
      "   --------- ------------------------------ 2.4/10.6 MB 7.6 MB/s eta 0:00:02\n",
      "   --------- ------------------------------ 2.4/10.6 MB 7.6 MB/s eta 0:00:02\n",
      "   --------- ------------------------------ 2.4/10.6 MB 7.6 MB/s eta 0:00:02\n",
      "   --------- ------------------------------ 2.4/10.6 MB 7.6 MB/s eta 0:00:02\n",
      "   --------- ------------------------------ 2.4/10.6 MB 7.6 MB/s eta 0:00:02\n",
      "   --------- ------------------------------ 2.4/10.6 MB 7.6 MB/s eta 0:00:02\n",
      "   --------- ------------------------------ 2.4/10.6 MB 7.6 MB/s eta 0:00:02\n",
      "   --------- ------------------------------ 2.4/10.6 MB 7.6 MB/s eta 0:00:02\n",
      "   --------- ------------------------------ 2.4/10.6 MB 7.6 MB/s eta 0:00:02\n",
      "   --------- ------------------------------ 2.4/10.6 MB 7.6 MB/s eta 0:00:02\n",
      "   --------- ------------------------------ 2.4/10.6 MB 7.6 MB/s eta 0:00:02\n",
      "   --------- ------------------------------ 2.4/10.6 MB 7.6 MB/s eta 0:00:02\n",
      "   --------- ------------------------------ 2.4/10.6 MB 7.6 MB/s eta 0:00:02\n",
      "   --------- ------------------------------ 2.4/10.6 MB 2.3 MB/s eta 0:00:04\n",
      "   --------- ------------------------------ 2.4/10.6 MB 2.3 MB/s eta 0:00:04\n",
      "   --------- ------------------------------ 2.6/10.6 MB 2.3 MB/s eta 0:00:04\n",
      "   ----------- ---------------------------- 3.0/10.6 MB 2.5 MB/s eta 0:00:03\n",
      "   ------------- -------------------------- 3.6/10.6 MB 2.9 MB/s eta 0:00:03\n",
      "   -------------- ------------------------- 3.9/10.6 MB 3.1 MB/s eta 0:00:03\n",
      "   -------------- ------------------------- 3.9/10.6 MB 3.1 MB/s eta 0:00:03\n",
      "   -------------- ------------------------- 3.9/10.6 MB 3.1 MB/s eta 0:00:03\n",
      "   -------------- ------------------------- 3.9/10.6 MB 3.1 MB/s eta 0:00:03\n",
      "   -------------- ------------------------- 3.9/10.6 MB 3.1 MB/s eta 0:00:03\n",
      "   -------------- ------------------------- 3.9/10.6 MB 3.1 MB/s eta 0:00:03\n",
      "   -------------- ------------------------- 3.9/10.6 MB 3.1 MB/s eta 0:00:03\n",
      "   -------------- ------------------------- 3.9/10.6 MB 3.1 MB/s eta 0:00:03\n",
      "   -------------- ------------------------- 3.9/10.6 MB 3.1 MB/s eta 0:00:03\n",
      "   -------------- ------------------------- 3.9/10.6 MB 3.1 MB/s eta 0:00:03\n",
      "   -------------- ------------------------- 3.9/10.6 MB 3.1 MB/s eta 0:00:03\n",
      "   -------------- ------------------------- 3.9/10.6 MB 3.1 MB/s eta 0:00:03\n",
      "   -------------- ------------------------- 3.9/10.6 MB 3.1 MB/s eta 0:00:03\n",
      "   -------------- ------------------------- 3.9/10.6 MB 3.1 MB/s eta 0:00:03\n",
      "   -------------- ------------------------- 3.9/10.6 MB 3.1 MB/s eta 0:00:03\n",
      "   -------------- ------------------------- 3.9/10.6 MB 3.1 MB/s eta 0:00:03\n",
      "   -------------- ------------------------- 4.0/10.6 MB 1.9 MB/s eta 0:00:04\n",
      "   --------------- ------------------------ 4.0/10.6 MB 1.9 MB/s eta 0:00:04\n",
      "   ---------------- ----------------------- 4.4/10.6 MB 2.1 MB/s eta 0:00:04\n",
      "   ----------------- ---------------------- 4.7/10.6 MB 2.2 MB/s eta 0:00:03\n",
      "   ------------------- -------------------- 5.1/10.6 MB 2.3 MB/s eta 0:00:03\n",
      "   -------------------- ------------------- 5.4/10.6 MB 2.4 MB/s eta 0:00:03\n",
      "   -------------------- ------------------- 5.5/10.6 MB 2.4 MB/s eta 0:00:03\n",
      "   -------------------- ------------------- 5.5/10.6 MB 2.4 MB/s eta 0:00:03\n",
      "   -------------------- ------------------- 5.5/10.6 MB 2.4 MB/s eta 0:00:03\n",
      "   -------------------- ------------------- 5.5/10.6 MB 2.4 MB/s eta 0:00:03\n",
      "   -------------------- ------------------- 5.5/10.6 MB 2.4 MB/s eta 0:00:03\n",
      "   -------------------- ------------------- 5.5/10.6 MB 2.2 MB/s eta 0:00:03\n",
      "   -------------------- ------------------- 5.5/10.6 MB 2.2 MB/s eta 0:00:03\n",
      "   --------------------- ------------------ 5.6/10.6 MB 2.1 MB/s eta 0:00:03\n",
      "   ---------------------- ----------------- 6.1/10.6 MB 2.3 MB/s eta 0:00:03\n",
      "   ------------------------ --------------- 6.4/10.6 MB 2.3 MB/s eta 0:00:02\n",
      "   ------------------------- -------------- 6.7/10.6 MB 2.4 MB/s eta 0:00:02\n",
      "   -------------------------- ------------- 7.0/10.6 MB 2.5 MB/s eta 0:00:02\n",
      "   -------------------------- ------------- 7.0/10.6 MB 2.5 MB/s eta 0:00:02\n",
      "   -------------------------- ------------- 7.0/10.6 MB 2.5 MB/s eta 0:00:02\n",
      "   -------------------------- ------------- 7.0/10.6 MB 2.5 MB/s eta 0:00:02\n",
      "   -------------------------- ------------- 7.0/10.6 MB 2.5 MB/s eta 0:00:02\n",
      "   -------------------------- ------------- 7.0/10.6 MB 2.5 MB/s eta 0:00:02\n",
      "   -------------------------- ------------- 7.0/10.6 MB 2.5 MB/s eta 0:00:02\n",
      "   -------------------------- ------------- 7.0/10.6 MB 2.5 MB/s eta 0:00:02\n",
      "   --------------------------- ------------ 7.2/10.6 MB 2.2 MB/s eta 0:00:02\n",
      "   ---------------------------- ----------- 7.6/10.6 MB 2.3 MB/s eta 0:00:02\n",
      "   ------------------------------ --------- 8.2/10.6 MB 2.5 MB/s eta 0:00:01\n",
      "   -------------------------------- ------- 8.6/10.6 MB 2.6 MB/s eta 0:00:01\n",
      "   -------------------------------- ------- 8.6/10.6 MB 2.6 MB/s eta 0:00:01\n",
      "   -------------------------------- ------- 8.6/10.6 MB 2.6 MB/s eta 0:00:01\n",
      "   -------------------------------- ------- 8.6/10.6 MB 2.6 MB/s eta 0:00:01\n",
      "   -------------------------------- ------- 8.6/10.6 MB 2.6 MB/s eta 0:00:01\n",
      "   -------------------------------- ------- 8.6/10.6 MB 2.6 MB/s eta 0:00:01\n",
      "   -------------------------------- ------- 8.6/10.6 MB 2.6 MB/s eta 0:00:01\n",
      "   -------------------------------- ------- 8.6/10.6 MB 2.6 MB/s eta 0:00:01\n",
      "   -------------------------------- ------- 8.6/10.6 MB 2.6 MB/s eta 0:00:01\n",
      "   -------------------------------- ------- 8.6/10.6 MB 2.6 MB/s eta 0:00:01\n",
      "   -------------------------------- ------- 8.6/10.6 MB 2.6 MB/s eta 0:00:01\n",
      "   -------------------------------- ------- 8.6/10.6 MB 2.6 MB/s eta 0:00:01\n",
      "   -------------------------------- ------- 8.6/10.6 MB 2.6 MB/s eta 0:00:01\n",
      "   -------------------------------- ------- 8.6/10.6 MB 2.6 MB/s eta 0:00:01\n",
      "   -------------------------------- ------- 8.6/10.6 MB 2.6 MB/s eta 0:00:01\n",
      "   -------------------------------- ------- 8.6/10.6 MB 2.6 MB/s eta 0:00:01\n",
      "   -------------------------------- ------- 8.6/10.6 MB 2.6 MB/s eta 0:00:01\n",
      "   --------------------------------- ------ 8.9/10.6 MB 2.1 MB/s eta 0:00:01\n",
      "   ----------------------------------- ---- 9.4/10.6 MB 2.2 MB/s eta 0:00:01\n",
      "   ------------------------------------- -- 10.0/10.6 MB 2.4 MB/s eta 0:00:01\n",
      "   -------------------------------------- - 10.1/10.6 MB 2.4 MB/s eta 0:00:01\n",
      "   -------------------------------------- - 10.1/10.6 MB 2.4 MB/s eta 0:00:01\n",
      "   -------------------------------------- - 10.1/10.6 MB 2.4 MB/s eta 0:00:01\n",
      "   -------------------------------------- - 10.1/10.6 MB 2.4 MB/s eta 0:00:01\n",
      "   -------------------------------------- - 10.1/10.6 MB 2.4 MB/s eta 0:00:01\n",
      "   -------------------------------------- - 10.1/10.6 MB 2.4 MB/s eta 0:00:01\n",
      "   -------------------------------------- - 10.1/10.6 MB 2.4 MB/s eta 0:00:01\n",
      "   -------------------------------------- - 10.1/10.6 MB 2.4 MB/s eta 0:00:01\n",
      "   -------------------------------------- - 10.1/10.6 MB 2.4 MB/s eta 0:00:01\n",
      "   -------------------------------------- - 10.1/10.6 MB 2.4 MB/s eta 0:00:01\n",
      "   -------------------------------------- - 10.1/10.6 MB 2.4 MB/s eta 0:00:01\n",
      "   -------------------------------------- - 10.1/10.6 MB 2.4 MB/s eta 0:00:01\n",
      "   -------------------------------------- - 10.1/10.6 MB 2.4 MB/s eta 0:00:01\n",
      "   -------------------------------------- - 10.1/10.6 MB 2.4 MB/s eta 0:00:01\n",
      "   -------------------------------------- - 10.1/10.6 MB 2.4 MB/s eta 0:00:01\n",
      "   -------------------------------------- - 10.1/10.6 MB 2.4 MB/s eta 0:00:01\n",
      "   -------------------------------------- - 10.2/10.6 MB 2.0 MB/s eta 0:00:01\n",
      "   ---------------------------------------  10.5/10.6 MB 2.0 MB/s eta 0:00:01\n",
      "   ---------------------------------------  10.6/10.6 MB 2.0 MB/s eta 0:00:01\n",
      "   ---------------------------------------- 10.6/10.6 MB 2.0 MB/s eta 0:00:00\n",
      "Using cached joblib-1.4.0-py3-none-any.whl (301 kB)\n",
      "Downloading threadpoolctl-3.5.0-py3-none-any.whl (18 kB)\n",
      "Installing collected packages: threadpoolctl, joblib, scikit-learn\n",
      "Successfully installed joblib-1.4.0 scikit-learn-1.4.2 threadpoolctl-3.5.0\n",
      "Note: you may need to restart the kernel to use updated packages.\n"
     ]
    }
   ],
   "source": [
    "pip install scikit-learn"
   ]
  },
  {
   "cell_type": "code",
   "execution_count": 22,
   "metadata": {},
   "outputs": [
    {
     "ename": "ModuleNotFoundError",
     "evalue": "No module named 'google.colab'",
     "output_type": "error",
     "traceback": [
      "\u001b[1;31m---------------------------------------------------------------------------\u001b[0m",
      "\u001b[1;31mModuleNotFoundError\u001b[0m                       Traceback (most recent call last)",
      "Cell \u001b[1;32mIn[22], line 6\u001b[0m\n\u001b[0;32m      4\u001b[0m \u001b[38;5;28;01mimport\u001b[39;00m \u001b[38;5;21;01mmatplotlib\u001b[39;00m\u001b[38;5;21;01m.\u001b[39;00m\u001b[38;5;21;01mimage\u001b[39;00m \u001b[38;5;28;01mas\u001b[39;00m \u001b[38;5;21;01mmpimg\u001b[39;00m\n\u001b[0;32m      5\u001b[0m \u001b[38;5;28;01mimport\u001b[39;00m \u001b[38;5;21;01mcv2\u001b[39;00m\n\u001b[1;32m----> 6\u001b[0m \u001b[38;5;28;01mfrom\u001b[39;00m \u001b[38;5;21;01mgoogle\u001b[39;00m\u001b[38;5;21;01m.\u001b[39;00m\u001b[38;5;21;01mcolab\u001b[39;00m\u001b[38;5;21;01m.\u001b[39;00m\u001b[38;5;21;01mpatches\u001b[39;00m \u001b[38;5;28;01mimport\u001b[39;00m cv2_imshow\n\u001b[0;32m      7\u001b[0m \u001b[38;5;28;01mfrom\u001b[39;00m \u001b[38;5;21;01mPIL\u001b[39;00m \u001b[38;5;28;01mimport\u001b[39;00m Image \n\u001b[0;32m      8\u001b[0m \u001b[38;5;28;01mfrom\u001b[39;00m \u001b[38;5;21;01msklearn\u001b[39;00m\u001b[38;5;21;01m.\u001b[39;00m\u001b[38;5;21;01mmodel_selection\u001b[39;00m \u001b[38;5;28;01mimport\u001b[39;00m train_test_split\n",
      "\u001b[1;31mModuleNotFoundError\u001b[0m: No module named 'google.colab'"
     ]
    }
   ],
   "source": [
    "import os\n",
    "import numpy as np\n",
    "import matplotlib.pyplot as plt\n",
    "import matplotlib.image as mpimg\n",
    "import cv2\n",
    "from google.colab.patches import cv2_imshow\n",
    "from PIL import Image \n",
    "from sklearn.model_selection import train_test_split"
   ]
  },
  {
   "cell_type": "code",
   "execution_count": null,
   "metadata": {},
   "outputs": [],
   "source": [
    "with_mask_files = os.listdir('/content/data/with_mask')\n",
    "print(with_mask_files[0:5])\n",
    "print(with_mask_files[-5:])"
   ]
  },
  {
   "cell_type": "code",
   "execution_count": null,
   "metadata": {},
   "outputs": [],
   "source": [
    "without_mask_files = os.listdir('/content/data/without_mask')\n",
    "print(without_mask_files[0:5])\n",
    "print(without_mask_files[-5:])"
   ]
  },
  {
   "cell_type": "code",
   "execution_count": null,
   "metadata": {},
   "outputs": [],
   "source": [
    "print('Number of with mask images:', len(with_mask_files))\n",
    "print('Number of without mask images:', len(without_mask_files))"
   ]
  },
  {
   "cell_type": "code",
   "execution_count": null,
   "metadata": {},
   "outputs": [],
   "source": [
    "# create the labels\n",
    "\n",
    "with_mask_labels = [1]*3725\n",
    "\n",
    "without_mask_labels = [0]*3828"
   ]
  },
  {
   "cell_type": "code",
   "execution_count": null,
   "metadata": {},
   "outputs": [],
   "source": [
    "print(with_mask_labels[0:5])\n",
    "\n",
    "print(without_mask_labels[0:5])"
   ]
  },
  {
   "cell_type": "code",
   "execution_count": null,
   "metadata": {},
   "outputs": [],
   "source": [
    "print(len(with_mask_labels))\n",
    "print(len(without_mask_labels))"
   ]
  },
  {
   "cell_type": "code",
   "execution_count": null,
   "metadata": {},
   "outputs": [],
   "source": [
    "labels = with_mask_labels + without_mask_labels\n",
    "\n",
    "print(len(labels))\n",
    "print(labels[0:5])\n",
    "print(labels[-5:])"
   ]
  },
  {
   "cell_type": "code",
   "execution_count": null,
   "metadata": {},
   "outputs": [],
   "source": [
    "# displaying with mask image\n",
    "img = mpimg.imread('/content/data/with_mask/with_mask_1545.jpg')\n",
    "imgplot = plt.imshow(img)\n",
    "plt.show()"
   ]
  },
  {
   "cell_type": "code",
   "execution_count": null,
   "metadata": {},
   "outputs": [],
   "source": [
    "# displaying without mask image\n",
    "img = mpimg.imread('/content/data/without_mask/without_mask_2925.jpg')\n",
    "imgplot = plt.imshow(img)\n",
    "plt.show()"
   ]
  },
  {
   "cell_type": "code",
   "execution_count": null,
   "metadata": {},
   "outputs": [],
   "source": [
    "# convert images to numpy arrays+\n",
    "\n",
    "with_mask_path = '/content/data/with_mask/'\n",
    "\n",
    "data = []\n",
    "\n",
    "for img_file in with_mask_files:\n",
    "\n",
    "  image = Image.open(with_mask_path + img_file)\n",
    "  image = image.resize((128,128))\n",
    "  image = image.convert('RGB')\n",
    "  image = np.array(image)\n",
    "  data.append(image)\n",
    "\n",
    "\n",
    "\n",
    "without_mask_path = '/content/data/without_mask/'\n",
    "\n",
    "\n",
    "for img_file in without_mask_files:\n",
    "\n",
    "  image = Image.open(without_mask_path + img_file)\n",
    "  image = image.resize((128,128))\n",
    "  image = image.convert('RGB')\n",
    "  image = np.array(image)\n",
    "  data.append(image)"
   ]
  },
  {
   "cell_type": "code",
   "execution_count": null,
   "metadata": {},
   "outputs": [],
   "source": [
    "type(data)"
   ]
  },
  {
   "cell_type": "code",
   "execution_count": null,
   "metadata": {},
   "outputs": [],
   "source": [
    "len(data)"
   ]
  },
  {
   "cell_type": "code",
   "execution_count": null,
   "metadata": {},
   "outputs": [],
   "source": [
    "data[0]"
   ]
  },
  {
   "cell_type": "code",
   "execution_count": null,
   "metadata": {},
   "outputs": [],
   "source": [
    "type(data[0])"
   ]
  },
  {
   "cell_type": "code",
   "execution_count": null,
   "metadata": {},
   "outputs": [],
   "source": [
    "data[0].shape"
   ]
  },
  {
   "cell_type": "code",
   "execution_count": null,
   "metadata": {},
   "outputs": [],
   "source": [
    "# converting image list and label list to numpy arrays\n",
    "\n",
    "X = np.array(data)\n",
    "Y = np.array(labels)"
   ]
  },
  {
   "cell_type": "code",
   "execution_count": null,
   "metadata": {},
   "outputs": [],
   "source": [
    "type(X)"
   ]
  },
  {
   "cell_type": "code",
   "execution_count": null,
   "metadata": {},
   "outputs": [],
   "source": [
    "type(Y)"
   ]
  },
  {
   "cell_type": "code",
   "execution_count": null,
   "metadata": {},
   "outputs": [],
   "source": [
    "print(X.shape)\n",
    "print(Y.shape)"
   ]
  },
  {
   "cell_type": "code",
   "execution_count": null,
   "metadata": {},
   "outputs": [],
   "source": [
    "print(Y)"
   ]
  },
  {
   "cell_type": "code",
   "execution_count": null,
   "metadata": {},
   "outputs": [],
   "source": [
    "X_train, X_test, Y_train, Y_test = train_test_split(X, Y, test_size=0.2, random_state=2)"
   ]
  },
  {
   "cell_type": "code",
   "execution_count": null,
   "metadata": {},
   "outputs": [],
   "source": [
    "print(X.shape, X_train.shape, X_test.shape)"
   ]
  },
  {
   "cell_type": "code",
   "execution_count": null,
   "metadata": {},
   "outputs": [],
   "source": [
    "# scaling the data\n",
    "\n",
    "X_train_scaled = X_train/255\n",
    "\n",
    "X_test_scaled = X_test/255"
   ]
  },
  {
   "cell_type": "code",
   "execution_count": null,
   "metadata": {},
   "outputs": [],
   "source": [
    "X_train[0]"
   ]
  },
  {
   "cell_type": "code",
   "execution_count": null,
   "metadata": {},
   "outputs": [],
   "source": [
    "X_train_scaled[0]"
   ]
  },
  {
   "cell_type": "code",
   "execution_count": null,
   "metadata": {},
   "outputs": [],
   "source": []
  },
  {
   "cell_type": "code",
   "execution_count": null,
   "metadata": {},
   "outputs": [],
   "source": []
  },
  {
   "cell_type": "code",
   "execution_count": null,
   "metadata": {},
   "outputs": [],
   "source": []
  },
  {
   "cell_type": "code",
   "execution_count": null,
   "metadata": {},
   "outputs": [],
   "source": []
  },
  {
   "cell_type": "code",
   "execution_count": null,
   "metadata": {},
   "outputs": [],
   "source": []
  }
 ],
 "metadata": {
  "kernelspec": {
   "display_name": "Python 3",
   "language": "python",
   "name": "python3"
  },
  "language_info": {
   "codemirror_mode": {
    "name": "ipython",
    "version": 3
   },
   "file_extension": ".py",
   "mimetype": "text/x-python",
   "name": "python",
   "nbconvert_exporter": "python",
   "pygments_lexer": "ipython3",
   "version": "3.12.2"
  }
 },
 "nbformat": 4,
 "nbformat_minor": 2
}
